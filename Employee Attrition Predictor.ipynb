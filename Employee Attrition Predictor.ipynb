{
 "cells": [
  {
   "cell_type": "markdown",
   "id": "cee700f8-9cd4-4af8-8670-f2dcf1241efd",
   "metadata": {},
   "source": [
    "## NAME:RISHABH JAIN\n",
    "## E-mail: jainrishabhj68@gmail.com"
   ]
  },
  {
   "cell_type": "code",
   "execution_count": 2,
   "id": "e552c7b8-b001-450f-a27b-5a4b1218ad22",
   "metadata": {},
   "outputs": [],
   "source": [
    "import pandas as pd\n",
    "df = pd.read_csv('Employee.csv')"
   ]
  },
  {
   "cell_type": "code",
   "execution_count": 3,
   "id": "4a86951d-48ea-4a4b-8588-d559a927ba4b",
   "metadata": {},
   "outputs": [
    {
     "data": {
      "text/plain": [
       "MonthlyIncome      19\n",
       "Age                20\n",
       "JobSatisfaction    18\n",
       "YearsAtCompany     18\n",
       "OverTime            0\n",
       "Attrition          19\n",
       "dtype: int64"
      ]
     },
     "execution_count": 3,
     "metadata": {},
     "output_type": "execute_result"
    }
   ],
   "source": [
    "df.isnull().sum()"
   ]
  },
  {
   "cell_type": "code",
   "execution_count": 4,
   "id": "2bae5fee-facf-4cca-bebb-d31e57c90b10",
   "metadata": {},
   "outputs": [],
   "source": [
    "df=df.dropna(subset=['Attrition'])"
   ]
  },
  {
   "cell_type": "code",
   "execution_count": 5,
   "id": "912a3fac-8dd7-475f-bc02-58d2457644fe",
   "metadata": {},
   "outputs": [],
   "source": [
    "df.fillna({\n",
    "    'Age': df['Age'].median(),\n",
    "    'YearsAtCompany': df['YearsAtCompany'].median(),\n",
    "    'MonthlyIncome': df['MonthlyIncome'].median(),\n",
    "    'JobSatisfaction': df['JobSatisfaction'].mode()[0]\n",
    "}, inplace=True)"
   ]
  },
  {
   "cell_type": "code",
   "execution_count": 6,
   "id": "befed54f-633a-48b6-9729-61f4d75e038b",
   "metadata": {},
   "outputs": [
    {
     "data": {
      "text/plain": [
       "MonthlyIncome      0\n",
       "Age                0\n",
       "JobSatisfaction    0\n",
       "YearsAtCompany     0\n",
       "OverTime           0\n",
       "Attrition          0\n",
       "dtype: int64"
      ]
     },
     "execution_count": 6,
     "metadata": {},
     "output_type": "execute_result"
    }
   ],
   "source": [
    "df.isnull().sum()"
   ]
  },
  {
   "cell_type": "code",
   "execution_count": 7,
   "id": "5862e0b8-cd30-4c4d-8b37-2d965b61f5cb",
   "metadata": {},
   "outputs": [],
   "source": [
    "from sklearn.preprocessing import LabelEncoder, StandardScaler\n",
    "from sklearn.utils import resample"
   ]
  },
  {
   "cell_type": "code",
   "execution_count": 8,
   "id": "1993c23f-7dd5-47bd-949e-6d4da149035c",
   "metadata": {},
   "outputs": [
    {
     "name": "stdout",
     "output_type": "stream",
     "text": [
      "   MonthlyIncome   Age  JobSatisfaction  YearsAtCompany  OverTime\n",
      "0        13191.0  41.0              4.0        1.000000         1\n",
      "1        15859.0  44.0              4.0       17.000000         1\n",
      "4         3885.0  27.0              4.0        0.000000         1\n",
      "6        12511.5  41.0              2.0       38.528277         1\n",
      "8         4670.0  53.0              4.0        9.000000         1\n",
      "0    1\n",
      "1    0\n",
      "4    1\n",
      "6    1\n",
      "8    0\n",
      "Name: Attrition, dtype: int32\n"
     ]
    }
   ],
   "source": [
    "le = LabelEncoder()\n",
    "df['OverTime'] = le.fit_transform(df['OverTime'])\n",
    "df = df[df['Attrition'].isin([0, 1])]\n",
    "df['Attrition'] = df['Attrition'].astype(int)\n",
    "X = df[['MonthlyIncome', 'Age', 'JobSatisfaction', 'YearsAtCompany', 'OverTime']]\n",
    "y = df['Attrition']\n",
    "print(X.head())\n",
    "print(y.head())"
   ]
  },
  {
   "cell_type": "code",
   "execution_count": 9,
   "id": "2a5dfada-e198-457d-8e25-fc25c7dc1449",
   "metadata": {},
   "outputs": [],
   "source": [
    "from sklearn.model_selection import train_test_split\n",
    "from sklearn.linear_model import LogisticRegression\n",
    "from sklearn.tree import DecisionTreeClassifier\n",
    "from sklearn.metrics import classification_report, accuracy_score\n",
    "X_train, X_test, y_train, y_test = train_test_split(X, y, test_size=0.2, random_state=42)"
   ]
  },
  {
   "cell_type": "code",
   "execution_count": 10,
   "id": "4832a042-c6d9-472f-b88f-b46c57386ff1",
   "metadata": {},
   "outputs": [
    {
     "name": "stdout",
     "output_type": "stream",
     "text": [
      "\n",
      "Logistic Regression Results\n",
      "Accuracy: 0.34285714285714286\n",
      "              precision    recall  f1-score   support\n",
      "\n",
      "           0       0.29      0.10      0.15        20\n",
      "           1       0.36      0.67      0.47        15\n",
      "\n",
      "    accuracy                           0.34        35\n",
      "   macro avg       0.32      0.38      0.31        35\n",
      "weighted avg       0.32      0.34      0.28        35\n",
      "\n"
     ]
    }
   ],
   "source": [
    "logreg = LogisticRegression(max_iter=1000)\n",
    "logreg.fit(X_train, y_train)\n",
    "y_pred_logreg = logreg.predict(X_test)\n",
    "print(\"\\nLogistic Regression Results\")\n",
    "print(\"Accuracy:\", accuracy_score(y_test, y_pred_logreg))\n",
    "print(classification_report(y_test, y_pred_logreg))"
   ]
  },
  {
   "cell_type": "code",
   "execution_count": 11,
   "id": "15c157aa-2633-4e08-94ec-9338c725c69f",
   "metadata": {},
   "outputs": [
    {
     "name": "stdout",
     "output_type": "stream",
     "text": [
      "\n",
      "Decision Tree Results\n",
      "Accuracy: 0.37142857142857144\n",
      "              precision    recall  f1-score   support\n",
      "\n",
      "           0       0.42      0.25      0.31        20\n",
      "           1       0.35      0.53      0.42        15\n",
      "\n",
      "    accuracy                           0.37        35\n",
      "   macro avg       0.38      0.39      0.37        35\n",
      "weighted avg       0.39      0.37      0.36        35\n",
      "\n"
     ]
    }
   ],
   "source": [
    "dtree = DecisionTreeClassifier(random_state=42)\n",
    "dtree.fit(X_train, y_train)\n",
    "y_pred_dtree = dtree.predict(X_test)\n",
    "print(\"\\nDecision Tree Results\")\n",
    "print(\"Accuracy:\", accuracy_score(y_test, y_pred_dtree))\n",
    "print(classification_report(y_test, y_pred_dtree))"
   ]
  },
  {
   "cell_type": "code",
   "execution_count": 12,
   "id": "35b8c6a9-a0bc-460d-9086-ab837f15d1be",
   "metadata": {},
   "outputs": [
    {
     "name": "stdout",
     "output_type": "stream",
     "text": [
      "\n",
      "Logistic Regression\n",
      "Accuracy: 0.5\n",
      "              precision    recall  f1-score   support\n",
      "\n",
      "           0       0.47      0.47      0.47        15\n",
      "           1       0.53      0.53      0.53        17\n",
      "\n",
      "    accuracy                           0.50        32\n",
      "   macro avg       0.50      0.50      0.50        32\n",
      "weighted avg       0.50      0.50      0.50        32\n",
      "\n",
      "\n",
      "Decision Tree\n",
      "Accuracy: 0.5\n",
      "              precision    recall  f1-score   support\n",
      "\n",
      "           0       0.48      0.67      0.56        15\n",
      "           1       0.55      0.35      0.43        17\n",
      "\n",
      "    accuracy                           0.50        32\n",
      "   macro avg       0.51      0.51      0.49        32\n",
      "weighted avg       0.51      0.50      0.49        32\n",
      "\n"
     ]
    }
   ],
   "source": [
    "df['OverTime'] = LabelEncoder().fit_transform(df['OverTime'])\n",
    "df = df[df['Attrition'].isin([0, 1])]\n",
    "df['Attrition'] = df['Attrition'].astype(int)\n",
    "df_majority = df[df['Attrition'] == 0]\n",
    "df_minority = df[df['Attrition'] == 1]\n",
    "df_minority_upsampled = resample(df_minority, \n",
    "                                 replace=True,\n",
    "                                 n_samples=len(df_majority),\n",
    "                                 random_state=42)\n",
    "df_balanced = pd.concat([df_majority, df_minority_upsampled])\n",
    "X = df_balanced[['MonthlyIncome', 'Age', 'JobSatisfaction', 'YearsAtCompany', 'OverTime']]\n",
    "y = df_balanced['Attrition']\n",
    "scaler = StandardScaler()\n",
    "X_scaled = scaler.fit_transform(X)\n",
    "X_train, X_test, y_train, y_test = train_test_split(X_scaled, y, test_size=0.2, random_state=42)\n",
    "logreg = LogisticRegression(max_iter=1000)\n",
    "logreg.fit(X_train, y_train)\n",
    "y_pred_logreg = logreg.predict(X_test)\n",
    "dtree = DecisionTreeClassifier(max_depth=5, min_samples_split=10, random_state=42)\n",
    "dtree.fit(X_train, y_train)\n",
    "y_pred_dtree = dtree.predict(X_test)\n",
    "print(\"\\nLogistic Regression\")\n",
    "print(\"Accuracy:\", accuracy_score(y_test, y_pred_logreg))\n",
    "print(classification_report(y_test, y_pred_logreg))\n",
    "print(\"\\nDecision Tree\")\n",
    "print(\"Accuracy:\", accuracy_score(y_test, y_pred_dtree))\n",
    "print(classification_report(y_test, y_pred_dtree))"
   ]
  }
 ],
 "metadata": {
  "kernelspec": {
   "display_name": "Python 3 (ipykernel)",
   "language": "python",
   "name": "python3"
  },
  "language_info": {
   "codemirror_mode": {
    "name": "ipython",
    "version": 3
   },
   "file_extension": ".py",
   "mimetype": "text/x-python",
   "name": "python",
   "nbconvert_exporter": "python",
   "pygments_lexer": "ipython3",
   "version": "3.12.4"
  }
 },
 "nbformat": 4,
 "nbformat_minor": 5
}
